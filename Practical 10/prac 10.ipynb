{
 "cells": [
  {
   "cell_type": "code",
   "execution_count": 1,
   "id": "9841b01f",
   "metadata": {},
   "outputs": [
    {
     "name": "stdout",
     "output_type": "stream",
     "text": [
      "Requirement already satisfied: pyodbc in c:\\users\\sharv\\appdata\\local\\packages\\pythonsoftwarefoundation.python.3.11_qbz5n2kfra8p0\\localcache\\local-packages\\python311\\site-packages (5.2.0)\n",
      "Note: you may need to restart the kernel to use updated packages.\n"
     ]
    }
   ],
   "source": [
    "pip install pyodbc\n"
   ]
  },
  {
   "cell_type": "code",
   "execution_count": 15,
   "id": "83eadade",
   "metadata": {},
   "outputs": [
    {
     "name": "stdout",
     "output_type": "stream",
     "text": [
      "Table Acc created successfully.\n",
      "Table Acc created successfully.\n",
      "(Decimal('101'), 'Alice', 5000.0)\n",
      "(Decimal('102'), 'Bob', 3000.0)\n",
      "\n",
      "Table Acc before update.\n",
      "(Decimal('101'), 'Alice', 5000.0)\n",
      "(Decimal('102'), 'Bob', 3000.0)\n",
      "\n",
      "Table Acc after update.\n",
      "(Decimal('101'), 'Alice', 6000.0)\n",
      "(Decimal('102'), 'Bob', 3000.0)\n"
     ]
    }
   ],
   "source": [
    "import pyodbc\n",
    "\n",
    "# Oracle DSN connection details\n",
    "dsn_name = 'orcl'  # Replace with your actual DSN\n",
    "user = 'system'\n",
    "password = '9495'\n",
    "\n",
    "try:\n",
    "    # Connect to Oracle using DSN\n",
    "    conn = pyodbc.connect(f\"DSN={dsn_name};UID={user};PWD={password}\")\n",
    "\n",
    "    # Create a cursor\n",
    "    cursor = conn.cursor()\n",
    "\n",
    "    # 1. Create Table\n",
    "    cursor.execute(\"DROP TABLE Acc\")\n",
    "    cursor.execute('''\n",
    "        CREATE TABLE Acc (\n",
    "            Account_No INT PRIMARY KEY,\n",
    "            Holder_Name VARCHAR(100),\n",
    "            Balance FLOAT\n",
    "        )\n",
    "    ''')\n",
    "    print(\"Table Acc created successfully.\")\n",
    "\n",
    "    cursor.execute('''\n",
    "        CREATE TABLE abcd (\n",
    "            Account_No INT PRIMARY KEY,\n",
    "            Holder_Name VARCHAR(100),\n",
    "            Balance FLOAT\n",
    "        )\n",
    "    ''')\n",
    "    print(\"Table Acc created successfully.\")\n",
    "\n",
    "    # 2️. Insert Data\n",
    "    cursor.execute(\"INSERT INTO Acc VALUES (101, 'Alice', 5000)\")\n",
    "    cursor.execute(\"INSERT INTO Acc VALUES (102, 'Bob', 3000)\")\n",
    "    conn.commit()\n",
    "\n",
    "    # 3️. Read Data\n",
    "    cursor.execute(\"SELECT * FROM Acc\")\n",
    "    for row in cursor.fetchall():\n",
    "        print(row)\n",
    "\n",
    "    # 4️. Update Data\n",
    "    print(\"\\nTable Acc before update.\")\n",
    "    cursor.execute(\"SELECT * FROM Acc\")\n",
    "    for row in cursor.fetchall():\n",
    "        print(row)\n",
    "\n",
    "    cursor.execute(\"UPDATE Acc SET Balance = Balance + 1000 WHERE Account_No = 101\")\n",
    "    conn.commit()\n",
    "\n",
    "    print(\"\\nTable Acc after update.\")\n",
    "    cursor.execute(\"SELECT * FROM Acc\")\n",
    "    for row in cursor.fetchall():\n",
    "        print(row)\n",
    "\n",
    "    # 5️. Delete Data (commented out)\n",
    "    # cursor.execute(\"DELETE FROM Acc WHERE Account_No = 102\")\n",
    "    conn.commit()\n",
    "\n",
    "    # Close connection\n",
    "    cursor.close()\n",
    "    conn.close()\n",
    "\n",
    "except Exception as e:\n",
    "    print(\"Error:\", e)\n"
   ]
  },
  {
   "cell_type": "code",
   "execution_count": null,
   "id": "25cfee77",
   "metadata": {},
   "outputs": [],
   "source": []
  },
  {
   "cell_type": "code",
   "execution_count": null,
   "id": "cd7e7dab",
   "metadata": {},
   "outputs": [],
   "source": []
  }
 ],
 "metadata": {
  "kernelspec": {
   "display_name": "Python 3",
   "language": "python",
   "name": "python3"
  },
  "language_info": {
   "codemirror_mode": {
    "name": "ipython",
    "version": 3
   },
   "file_extension": ".py",
   "mimetype": "text/x-python",
   "name": "python",
   "nbconvert_exporter": "python",
   "pygments_lexer": "ipython3",
   "version": "3.11.9"
  }
 },
 "nbformat": 4,
 "nbformat_minor": 5
}
